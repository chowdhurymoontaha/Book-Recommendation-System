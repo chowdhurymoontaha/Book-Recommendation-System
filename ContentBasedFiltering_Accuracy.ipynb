{
  "nbformat": 4,
  "nbformat_minor": 0,
  "metadata": {
    "colab": {
      "name": "ContentBasedFiltering_Accuracy.ipynb",
      "provenance": [],
      "collapsed_sections": [],
      "toc_visible": true
    },
    "kernelspec": {
      "name": "python3",
      "display_name": "Python 3"
    },
    "language_info": {
      "name": "python"
    }
  },
  "cells": [
    {
      "cell_type": "markdown",
      "metadata": {
        "id": "2HnvfSWIr6C9"
      },
      "source": [
        "# Mount and Import"
      ]
    },
    {
      "cell_type": "code",
      "metadata": {
        "colab": {
          "base_uri": "https://localhost:8080/"
        },
        "id": "LSELSdpxqHY_",
        "outputId": "e4f2132e-ca27-4228-c319-5b26a3801de5"
      },
      "source": [
        "from google.colab import drive\n",
        "drive.mount('/content/gdrive')"
      ],
      "execution_count": null,
      "outputs": [
        {
          "output_type": "stream",
          "name": "stdout",
          "text": [
            "Drive already mounted at /content/gdrive; to attempt to forcibly remount, call drive.mount(\"/content/gdrive\", force_remount=True).\n"
          ]
        }
      ]
    },
    {
      "cell_type": "code",
      "metadata": {
        "colab": {
          "base_uri": "https://localhost:8080/"
        },
        "id": "KjtiXiGwqHZF",
        "outputId": "6286f158-79c6-432a-ca2e-f5b4495381b7"
      },
      "source": [
        "%cd '/content/gdrive/MyDrive/Colab Notebooks/aust_academia/Pattern Recognition Lab (CSE4214)/Project/dataset/Book_RS_Dataset_v5'"
      ],
      "execution_count": null,
      "outputs": [
        {
          "output_type": "stream",
          "name": "stdout",
          "text": [
            "/content/gdrive/MyDrive/Colab Notebooks/aust_academia/Pattern Recognition Lab (CSE4214)/Project/dataset/Book_RS_Dataset_v5\n"
          ]
        }
      ]
    },
    {
      "cell_type": "code",
      "metadata": {
        "colab": {
          "base_uri": "https://localhost:8080/"
        },
        "id": "_sBFwENAqdJ6",
        "outputId": "22e5969a-792f-412a-aa36-6ce52e5078b0"
      },
      "source": [
        "!ls"
      ],
      "execution_count": null,
      "outputs": [
        {
          "output_type": "stream",
          "name": "stdout",
          "text": [
            "books.csv      genres.csv      ratings.csv\t tags.csv\n",
            "book_tags.csv  maxRatings.csv  stringedTags.csv  to_read.csv\n"
          ]
        }
      ]
    },
    {
      "cell_type": "code",
      "metadata": {
        "id": "JahMeSaCqfQq"
      },
      "source": [
        "import pandas as pd\n",
        "import numpy as np"
      ],
      "execution_count": null,
      "outputs": []
    },
    {
      "cell_type": "markdown",
      "metadata": {
        "id": "U25mFXYKlu6u"
      },
      "source": [
        "# Read CSV"
      ]
    },
    {
      "cell_type": "code",
      "metadata": {
        "id": "1f4PFUdolrlw"
      },
      "source": [
        "stringedTags = pd.read_csv('stringedTags.csv',index_col=0)\n",
        "ratings = pd.read_csv('ratings.csv')\n",
        "books = pd.read_csv('books.csv')"
      ],
      "execution_count": null,
      "outputs": []
    },
    {
      "cell_type": "code",
      "metadata": {
        "colab": {
          "base_uri": "https://localhost:8080/"
        },
        "id": "zCXUmsbql08N",
        "outputId": "4a461c7e-05cb-4720-aaf6-4e5999e82f25"
      },
      "source": [
        "stringedTags.info()"
      ],
      "execution_count": null,
      "outputs": [
        {
          "output_type": "stream",
          "name": "stdout",
          "text": [
            "<class 'pandas.core.frame.DataFrame'>\n",
            "Int64Index: 9997 entries, 0 to 9996\n",
            "Data columns (total 5 columns):\n",
            " #   Column             Non-Null Count  Dtype \n",
            "---  ------             --------------  ----- \n",
            " 0   goodreads_book_id  9997 non-null   int64 \n",
            " 1   tag_name           9997 non-null   object\n",
            " 2   authors            9997 non-null   object\n",
            " 3   title              9997 non-null   object\n",
            " 4   all_tags           9997 non-null   object\n",
            "dtypes: int64(1), object(4)\n",
            "memory usage: 468.6+ KB\n"
          ]
        }
      ]
    },
    {
      "cell_type": "markdown",
      "metadata": {
        "id": "i3kx7NC94R-Z"
      },
      "source": [
        "# rating.csv - all books"
      ]
    },
    {
      "cell_type": "code",
      "metadata": {
        "colab": {
          "base_uri": "https://localhost:8080/"
        },
        "id": "zk62Rt8o4Vvl",
        "outputId": "b84f19de-e916-4cb3-d4e2-31fd06deed37"
      },
      "source": [
        "ratings.info()"
      ],
      "execution_count": null,
      "outputs": [
        {
          "output_type": "stream",
          "name": "stdout",
          "text": [
            "<class 'pandas.core.frame.DataFrame'>\n",
            "RangeIndex: 981756 entries, 0 to 981755\n",
            "Data columns (total 3 columns):\n",
            " #   Column   Non-Null Count   Dtype\n",
            "---  ------   --------------   -----\n",
            " 0   book_id  981756 non-null  int64\n",
            " 1   user_id  981756 non-null  int64\n",
            " 2   rating   981756 non-null  int64\n",
            "dtypes: int64(3)\n",
            "memory usage: 22.5 MB\n"
          ]
        }
      ]
    },
    {
      "cell_type": "code",
      "metadata": {
        "id": "POlFSYtg4ox1"
      },
      "source": [
        "# ratings.groupby('book_id')['user_id'].count().head(20)"
      ],
      "execution_count": null,
      "outputs": []
    },
    {
      "cell_type": "code",
      "metadata": {
        "colab": {
          "base_uri": "https://localhost:8080/",
          "height": 568
        },
        "id": "sbIRRev264Ji",
        "outputId": "ade807c8-857d-475f-f863-af1f08d96499"
      },
      "source": [
        "stringedTags"
      ],
      "execution_count": null,
      "outputs": [
        {
          "output_type": "execute_result",
          "data": {
            "text/html": [
              "<div>\n",
              "<style scoped>\n",
              "    .dataframe tbody tr th:only-of-type {\n",
              "        vertical-align: middle;\n",
              "    }\n",
              "\n",
              "    .dataframe tbody tr th {\n",
              "        vertical-align: top;\n",
              "    }\n",
              "\n",
              "    .dataframe thead th {\n",
              "        text-align: right;\n",
              "    }\n",
              "</style>\n",
              "<table border=\"1\" class=\"dataframe\">\n",
              "  <thead>\n",
              "    <tr style=\"text-align: right;\">\n",
              "      <th></th>\n",
              "      <th>goodreads_book_id</th>\n",
              "      <th>tag_name</th>\n",
              "      <th>authors</th>\n",
              "      <th>title</th>\n",
              "      <th>all_tags</th>\n",
              "    </tr>\n",
              "  </thead>\n",
              "  <tbody>\n",
              "    <tr>\n",
              "      <th>0</th>\n",
              "      <td>1</td>\n",
              "      <td>fantasy young-adult fiction children paranorma...</td>\n",
              "      <td>j.k.rowling marygrandpré</td>\n",
              "      <td>Harry Potter and the Half-Blood Prince (Harry ...</td>\n",
              "      <td>fantasy young-adult fiction children paranorma...</td>\n",
              "    </tr>\n",
              "    <tr>\n",
              "      <th>1</th>\n",
              "      <td>2</td>\n",
              "      <td>fantasy young-adult fiction children paranorma...</td>\n",
              "      <td>j.k.rowling marygrandpré</td>\n",
              "      <td>Harry Potter and the Order of the Phoenix (Har...</td>\n",
              "      <td>fantasy young-adult fiction children paranorma...</td>\n",
              "    </tr>\n",
              "    <tr>\n",
              "      <th>2</th>\n",
              "      <td>3</td>\n",
              "      <td>fantasy young-adult fiction children paranorma...</td>\n",
              "      <td>j.k.rowling marygrandpré</td>\n",
              "      <td>Harry Potter and the Sorcerer's Stone (Harry P...</td>\n",
              "      <td>fantasy young-adult fiction children paranorma...</td>\n",
              "    </tr>\n",
              "    <tr>\n",
              "      <th>3</th>\n",
              "      <td>5</td>\n",
              "      <td>fantasy young-adult fiction children paranorma...</td>\n",
              "      <td>j.k.rowling marygrandpré rufusbeck</td>\n",
              "      <td>Harry Potter and the Prisoner of Azkaban (Harr...</td>\n",
              "      <td>fantasy young-adult fiction children paranorma...</td>\n",
              "    </tr>\n",
              "    <tr>\n",
              "      <th>4</th>\n",
              "      <td>6</td>\n",
              "      <td>fantasy young-adult fiction children paranorma...</td>\n",
              "      <td>j.k.rowling marygrandpré</td>\n",
              "      <td>Harry Potter and the Goblet of Fire (Harry Pot...</td>\n",
              "      <td>fantasy young-adult fiction children paranorma...</td>\n",
              "    </tr>\n",
              "    <tr>\n",
              "      <th>...</th>\n",
              "      <td>...</td>\n",
              "      <td>...</td>\n",
              "      <td>...</td>\n",
              "      <td>...</td>\n",
              "      <td>...</td>\n",
              "    </tr>\n",
              "    <tr>\n",
              "      <th>9992</th>\n",
              "      <td>31538647</td>\n",
              "      <td>fantasy young-adult fiction children paranormal</td>\n",
              "      <td>j.k.rowling</td>\n",
              "      <td>Hogwarts: An Incomplete and Unreliable Guide (...</td>\n",
              "      <td>fantasy young-adult fiction children paranorma...</td>\n",
              "    </tr>\n",
              "    <tr>\n",
              "      <th>9993</th>\n",
              "      <td>31845516</td>\n",
              "      <td>fiction adult non-fiction biography</td>\n",
              "      <td>glennondoylemelton</td>\n",
              "      <td>Love Warrior</td>\n",
              "      <td>fiction adult non-fiction biography glennondoy...</td>\n",
              "    </tr>\n",
              "    <tr>\n",
              "      <th>9994</th>\n",
              "      <td>32075671</td>\n",
              "      <td>young-adult fiction romance crime</td>\n",
              "      <td>angiethomas</td>\n",
              "      <td>The Hate U Give</td>\n",
              "      <td>young-adult fiction romance crime angiethomas</td>\n",
              "    </tr>\n",
              "    <tr>\n",
              "      <th>9995</th>\n",
              "      <td>32848471</td>\n",
              "      <td>fiction romance adult</td>\n",
              "      <td>vikeeland</td>\n",
              "      <td>Egomaniac</td>\n",
              "      <td>fiction romance adult vikeeland</td>\n",
              "    </tr>\n",
              "    <tr>\n",
              "      <th>9996</th>\n",
              "      <td>33288638</td>\n",
              "      <td>fiction children romance adult</td>\n",
              "      <td>marianazapata</td>\n",
              "      <td>Wait for It</td>\n",
              "      <td>fiction children romance adult marianazapata</td>\n",
              "    </tr>\n",
              "  </tbody>\n",
              "</table>\n",
              "<p>9997 rows × 5 columns</p>\n",
              "</div>"
            ],
            "text/plain": [
              "      goodreads_book_id  ...                                           all_tags\n",
              "0                     1  ...  fantasy young-adult fiction children paranorma...\n",
              "1                     2  ...  fantasy young-adult fiction children paranorma...\n",
              "2                     3  ...  fantasy young-adult fiction children paranorma...\n",
              "3                     5  ...  fantasy young-adult fiction children paranorma...\n",
              "4                     6  ...  fantasy young-adult fiction children paranorma...\n",
              "...                 ...  ...                                                ...\n",
              "9992           31538647  ...  fantasy young-adult fiction children paranorma...\n",
              "9993           31845516  ...  fiction adult non-fiction biography glennondoy...\n",
              "9994           32075671  ...      young-adult fiction romance crime angiethomas\n",
              "9995           32848471  ...                    fiction romance adult vikeeland\n",
              "9996           33288638  ...       fiction children romance adult marianazapata\n",
              "\n",
              "[9997 rows x 5 columns]"
            ]
          },
          "metadata": {},
          "execution_count": 65
        }
      ]
    },
    {
      "cell_type": "markdown",
      "metadata": {
        "id": "Yz9rfMo0KSz7"
      },
      "source": [
        "# G"
      ]
    },
    {
      "cell_type": "code",
      "metadata": {
        "colab": {
          "base_uri": "https://localhost:8080/",
          "height": 97
        },
        "id": "i597vzhul5bA",
        "outputId": "f4a8ec79-65a9-432b-d653-8f7a7798be97"
      },
      "source": [
        "g = 5\n",
        "index = np.where(stringedTags['goodreads_book_id'] == g)[0][0]\n",
        "read_book = stringedTags.iloc[[index]]\n",
        "read_book"
      ],
      "execution_count": null,
      "outputs": [
        {
          "output_type": "execute_result",
          "data": {
            "text/html": [
              "<div>\n",
              "<style scoped>\n",
              "    .dataframe tbody tr th:only-of-type {\n",
              "        vertical-align: middle;\n",
              "    }\n",
              "\n",
              "    .dataframe tbody tr th {\n",
              "        vertical-align: top;\n",
              "    }\n",
              "\n",
              "    .dataframe thead th {\n",
              "        text-align: right;\n",
              "    }\n",
              "</style>\n",
              "<table border=\"1\" class=\"dataframe\">\n",
              "  <thead>\n",
              "    <tr style=\"text-align: right;\">\n",
              "      <th></th>\n",
              "      <th>goodreads_book_id</th>\n",
              "      <th>tag_name</th>\n",
              "      <th>authors</th>\n",
              "      <th>title</th>\n",
              "      <th>all_tags</th>\n",
              "    </tr>\n",
              "  </thead>\n",
              "  <tbody>\n",
              "    <tr>\n",
              "      <th>3</th>\n",
              "      <td>5</td>\n",
              "      <td>fantasy young-adult fiction children paranorma...</td>\n",
              "      <td>j.k.rowling marygrandpré rufusbeck</td>\n",
              "      <td>Harry Potter and the Prisoner of Azkaban (Harr...</td>\n",
              "      <td>fantasy young-adult fiction children paranorma...</td>\n",
              "    </tr>\n",
              "  </tbody>\n",
              "</table>\n",
              "</div>"
            ],
            "text/plain": [
              "   goodreads_book_id  ...                                           all_tags\n",
              "3                  5  ...  fantasy young-adult fiction children paranorma...\n",
              "\n",
              "[1 rows x 5 columns]"
            ]
          },
          "metadata": {},
          "execution_count": 66
        }
      ]
    },
    {
      "cell_type": "code",
      "metadata": {
        "colab": {
          "base_uri": "https://localhost:8080/",
          "height": 97
        },
        "id": "VPU0zVlu7H5r",
        "outputId": "b3d18efb-1fcf-4d7b-d104-29a0d3a29bbc"
      },
      "source": [
        "read_book = stringedTags.loc[stringedTags['goodreads_book_id'] == 3]\n",
        "read_book"
      ],
      "execution_count": null,
      "outputs": [
        {
          "output_type": "execute_result",
          "data": {
            "text/html": [
              "<div>\n",
              "<style scoped>\n",
              "    .dataframe tbody tr th:only-of-type {\n",
              "        vertical-align: middle;\n",
              "    }\n",
              "\n",
              "    .dataframe tbody tr th {\n",
              "        vertical-align: top;\n",
              "    }\n",
              "\n",
              "    .dataframe thead th {\n",
              "        text-align: right;\n",
              "    }\n",
              "</style>\n",
              "<table border=\"1\" class=\"dataframe\">\n",
              "  <thead>\n",
              "    <tr style=\"text-align: right;\">\n",
              "      <th></th>\n",
              "      <th>goodreads_book_id</th>\n",
              "      <th>tag_name</th>\n",
              "      <th>authors</th>\n",
              "      <th>title</th>\n",
              "      <th>all_tags</th>\n",
              "    </tr>\n",
              "  </thead>\n",
              "  <tbody>\n",
              "    <tr>\n",
              "      <th>2</th>\n",
              "      <td>3</td>\n",
              "      <td>fantasy young-adult fiction children paranorma...</td>\n",
              "      <td>j.k.rowling marygrandpré</td>\n",
              "      <td>Harry Potter and the Sorcerer's Stone (Harry P...</td>\n",
              "      <td>fantasy young-adult fiction children paranorma...</td>\n",
              "    </tr>\n",
              "  </tbody>\n",
              "</table>\n",
              "</div>"
            ],
            "text/plain": [
              "   goodreads_book_id  ...                                           all_tags\n",
              "2                  3  ...  fantasy young-adult fiction children paranorma...\n",
              "\n",
              "[1 rows x 5 columns]"
            ]
          },
          "metadata": {},
          "execution_count": 67
        }
      ]
    },
    {
      "cell_type": "markdown",
      "metadata": {
        "id": "RnSuJh3K3m5t"
      },
      "source": [
        "# Functions"
      ]
    },
    {
      "cell_type": "markdown",
      "metadata": {
        "id": "PgnSfBEsmqLF"
      },
      "source": [
        "## getAllUsers"
      ]
    },
    {
      "cell_type": "code",
      "metadata": {
        "id": "hwFlRlpcm7Jt"
      },
      "source": [
        "def getAllUsers(bookID):\n",
        "    same_book_id = ratings.loc[ratings['book_id'] == bookID]\n",
        "    all_users = same_book_id.user_id\n",
        "    all_users_numpy = all_users.to_numpy()\n",
        "\n",
        "    return all_users_numpy"
      ],
      "execution_count": null,
      "outputs": []
    },
    {
      "cell_type": "markdown",
      "metadata": {
        "id": "nzcaCAhClLUV"
      },
      "source": [
        "## getAcc"
      ]
    },
    {
      "cell_type": "code",
      "metadata": {
        "id": "p6T2T6o1buxw"
      },
      "source": [
        "def getAcc(preds,actual) :\n",
        "    preds  = preds.astype(np.int32)\n",
        "    actual = actual.astype(np.int32)\n",
        "\n",
        "    common_len = len(np.intersect1d(preds, actual))\n",
        "    pred_len = len(preds)\n",
        "\n",
        "    accuracy = (common_len / pred_len) * 100\n",
        "    accuracy = round(accuracy,4)\n",
        "\n",
        "\n",
        "    return accuracy"
      ],
      "execution_count": null,
      "outputs": []
    },
    {
      "cell_type": "markdown",
      "metadata": {
        "id": "jYZl5ir4lPke"
      },
      "source": [
        "## allUsers_accuracy"
      ]
    },
    {
      "cell_type": "code",
      "metadata": {
        "id": "liK8rOfkfnC0"
      },
      "source": [
        "def allUsers_accuracy (all_users,predicted_booksID) :\n",
        "    acc_list = []\n",
        "\n",
        "    for user in all_users:\n",
        "        actual_booksID_of_oneUser = ratings.loc[ratings['user_id'] == user].book_id.to_numpy()\n",
        "\n",
        "        acc = getAcc(preds = predicted_booksID,\n",
        "                    actual = actual_booksID_of_oneUser)\n",
        "        \n",
        "        acc_list.append(acc)\n",
        "\n",
        "        # print('user ID:',user)\n",
        "        # print(actual_booksID_of_oneUser)\n",
        "        # print()\n",
        "\n",
        "    acc_list = np.array(acc_list, dtype=np.float32)\n",
        "\n",
        "    # return acc_list\n",
        "\n",
        "    accuracy = sum(acc_list) / len(acc_list)\n",
        "    accuracy = round(accuracy,4)\n",
        "\n",
        "    return accuracy"
      ],
      "execution_count": null,
      "outputs": []
    },
    {
      "cell_type": "markdown",
      "metadata": {
        "id": "AaWBZiJz8WBs"
      },
      "source": [
        "# Content based RS with TfidfVectorizer"
      ]
    },
    {
      "cell_type": "code",
      "metadata": {
        "colab": {
          "base_uri": "https://localhost:8080/"
        },
        "id": "UTQbSpRj35A-",
        "outputId": "247f285f-48bd-4b18-fc33-b7f8402cb52d"
      },
      "source": [
        "# ami add korsi... kintu moontahar add kora lagbe na\n",
        "\n",
        "\n",
        "# for tf-idf\n",
        "from sklearn.feature_extraction.text import TfidfVectorizer\n",
        "tfidf_vectorizer = TfidfVectorizer()\n",
        "\n",
        "tfidf_rev = tfidf_vectorizer.fit_transform((stringedTags['all_tags']))\n",
        "tfidf_rev\n",
        "\n",
        "\n",
        "# for count\n",
        "from sklearn.feature_extraction.text import CountVectorizer\n",
        "count_vectorizer = CountVectorizer()\n",
        "\n",
        "count_rev = count_vectorizer.fit_transform((stringedTags['all_tags']))\n",
        "count_rev"
      ],
      "execution_count": null,
      "outputs": [
        {
          "output_type": "execute_result",
          "data": {
            "text/plain": [
              "<9997x6209 sparse matrix of type '<class 'numpy.int64'>'\n",
              "\twith 65306 stored elements in Compressed Sparse Row format>"
            ]
          },
          "metadata": {},
          "execution_count": 71
        }
      ]
    },
    {
      "cell_type": "code",
      "metadata": {
        "id": "sJ2vtk0u8U8r"
      },
      "source": [
        "from sklearn.metrics.pairwise import cosine_similarity\n",
        "book_tfidf = tfidf_vectorizer.transform(read_book['all_tags'])\n",
        "cos_similarity_tfidf = map(lambda x: cosine_similarity(book_tfidf, x), tfidf_rev)\n",
        "output = list(cos_similarity_tfidf)"
      ],
      "execution_count": null,
      "outputs": []
    },
    {
      "cell_type": "markdown",
      "metadata": {
        "id": "RL2M8mD1Comt"
      },
      "source": [
        "# Content based RS with CountVectorizer"
      ]
    },
    {
      "cell_type": "code",
      "metadata": {
        "id": "eLhcaLoq8Giz"
      },
      "source": [
        "from sklearn.metrics.pairwise import cosine_similarity\n",
        "book_count = count_vectorizer.transform(read_book['all_tags'])\n",
        "cos_similarity_countv = map(lambda x: cosine_similarity(book_count, x), count_rev)\n",
        "output2 = list(cos_similarity_countv)"
      ],
      "execution_count": null,
      "outputs": []
    },
    {
      "cell_type": "markdown",
      "metadata": {
        "id": "titrdthLCvBa"
      },
      "source": [
        "#Top recommendations"
      ]
    },
    {
      "cell_type": "code",
      "metadata": {
        "id": "bTtOj9z6Ooz9"
      },
      "source": [
        "#This function takes input as top= how many top recommendation we want to see,\n",
        "# ds=dataframe(here, stringedTags) and scores= cosine similarity score of other bookes with the given id's book\n",
        "# and give output -->recommendation(goodreads book id, author names, title and similarity score with the given id) \n",
        "\n",
        "def get_recommendation(top, ds, scores):\n",
        "  recommendation = pd.DataFrame(columns = ['goodreads_book_id', 'authors', 'title', 'score'])\n",
        "  count = 0\n",
        "  for i in top:\n",
        "    if stringedTags.iloc[i, 0]<=10000 and scores[count]>=0.5 :\n",
        "      recommendation.at[count, 'goodreads_book_id'] = stringedTags.iloc[i, 0]\n",
        "      recommendation.at[count, 'authors'] = stringedTags.iloc[i, 2]\n",
        "      recommendation.at[count, 'title'] = stringedTags.iloc[i, 3]\n",
        "      recommendation.at[count, 'score'] =  scores[count]\n",
        "      count += 1\n",
        "  return recommendation"
      ],
      "execution_count": null,
      "outputs": []
    },
    {
      "cell_type": "code",
      "metadata": {
        "id": "-y27wSgR_lyj"
      },
      "source": [
        "# for tfidf\n",
        "top = sorted(range(len(output)), key=lambda i: output[i], reverse=True)\n",
        "list_scores = [output[i][0][0] for i in top]\n",
        "\n",
        "comparison=get_recommendation(top, stringedTags, list_scores)\n",
        "# get_recommendation(top, stringedTags, list_scores)"
      ],
      "execution_count": null,
      "outputs": []
    },
    {
      "cell_type": "code",
      "metadata": {
        "id": "-IXecAcA_2Ac"
      },
      "source": [
        "# for count\n",
        "top = sorted(range(len(output2)), key=lambda i: output2[i], reverse=True)\n",
        "list_scores = [output2[i][0][0] for i in top]\n",
        "comparison_countVec = get_recommendation(top, stringedTags, list_scores)\n",
        "\n",
        "# comparison_countVec"
      ],
      "execution_count": null,
      "outputs": []
    },
    {
      "cell_type": "markdown",
      "metadata": {
        "id": "44FN7VWfWC4m"
      },
      "source": [
        "#TFIDF For evaluation (User Preference)"
      ]
    },
    {
      "cell_type": "code",
      "metadata": {
        "id": "5YvdN2pAKqLE"
      },
      "source": [
        "#amader model ei ei boi user k suggest korse\n",
        "\n",
        "# comparison "
      ],
      "execution_count": null,
      "outputs": []
    },
    {
      "cell_type": "code",
      "metadata": {
        "id": "RsNnMM3tPVJT"
      },
      "source": [
        "tfidf_predicted_booksID = comparison.goodreads_book_id.to_numpy()"
      ],
      "execution_count": null,
      "outputs": []
    },
    {
      "cell_type": "code",
      "metadata": {
        "colab": {
          "base_uri": "https://localhost:8080/"
        },
        "id": "OqNPchfFPuyD",
        "outputId": "1aca41d9-e1ab-40b5-b6df-0d938ee9375e"
      },
      "source": [
        "tfidf_predicted_booksID"
      ],
      "execution_count": null,
      "outputs": [
        {
          "output_type": "execute_result",
          "data": {
            "text/plain": [
              "array([3, 6, 1, 2, 8, 5, 10, 2002, 9475, 8948, 8949, 8951, 8952, 8960,\n",
              "       8962, 8963, 8965], dtype=object)"
            ]
          },
          "metadata": {},
          "execution_count": 79
        }
      ]
    },
    {
      "cell_type": "code",
      "metadata": {
        "colab": {
          "base_uri": "https://localhost:8080/"
        },
        "id": "0BFbkf82Dg1h",
        "outputId": "5f510604-f994-48d9-bef1-a31793dc7f19"
      },
      "source": [
        "g"
      ],
      "execution_count": null,
      "outputs": [
        {
          "output_type": "execute_result",
          "data": {
            "text/plain": [
              "5"
            ]
          },
          "metadata": {},
          "execution_count": 80
        }
      ]
    },
    {
      "cell_type": "code",
      "metadata": {
        "id": "bfChvehmj-Q0"
      },
      "source": [
        "# books.csv te khujbo oi user kon kon boi porse\n",
        "# getAllUsers(g)"
      ],
      "execution_count": null,
      "outputs": []
    },
    {
      "cell_type": "code",
      "metadata": {
        "colab": {
          "base_uri": "https://localhost:8080/"
        },
        "id": "6_QhD4NBryVZ",
        "outputId": "ea514bb8-6d97-4a60-b327-20cf180d5304"
      },
      "source": [
        "len(getAllUsers(g))"
      ],
      "execution_count": null,
      "outputs": [
        {
          "output_type": "execute_result",
          "data": {
            "text/plain": [
              "100"
            ]
          },
          "metadata": {},
          "execution_count": 82
        }
      ]
    },
    {
      "cell_type": "code",
      "metadata": {
        "id": "GdXfl_ZKhFQN"
      },
      "source": [
        "all_users = getAllUsers(g)\n",
        "\n",
        "tfidf_acc = allUsers_accuracy(all_users,tfidf_predicted_booksID)"
      ],
      "execution_count": null,
      "outputs": []
    },
    {
      "cell_type": "markdown",
      "metadata": {
        "id": "hyFI7XaqjlcJ"
      },
      "source": [
        "# Count Vec Evaluation"
      ]
    },
    {
      "cell_type": "code",
      "metadata": {
        "id": "ekrbjFQ2j4WN"
      },
      "source": [
        "# comparison_countVec"
      ],
      "execution_count": null,
      "outputs": []
    },
    {
      "cell_type": "code",
      "metadata": {
        "colab": {
          "base_uri": "https://localhost:8080/"
        },
        "id": "sWuf04CEj4wh",
        "outputId": "7f101393-5924-4d40-d7bf-aab4b06871e1"
      },
      "source": [
        "countVec_predicted_booksID = comparison_countVec.goodreads_book_id.to_numpy()\n",
        "countVec_predicted_booksID"
      ],
      "execution_count": null,
      "outputs": [
        {
          "output_type": "execute_result",
          "data": {
            "text/plain": [
              "array([3, 6, 1, 2, 5, 8, 10, 2002, 9475, 6294, 8948, 8949, 8951, 8952,\n",
              "       8960, 8962, 8963, 8965, 8966, 8967, 8968, 6554, 3467, 3304, 8957,\n",
              "       5326, 903, 902, 6327, 2998, 827, 2839, 3636, 3980, 7996, 6572,\n",
              "       7980, 7999, 30, 2744, 5907, 7967, 9532, 4516, 7979, 7987, 7998,\n",
              "       9531, 1852, 2142, 3682, 2879, 3464, 3685, 4835, 6334, 6628, 6671,\n",
              "       6687, 7677, 7981, 7983, 7993, 8088, 365, 378, 4407, 5091, 5094,\n",
              "       5417, 5659, 6670, 6689, 6690, 6693, 8073, 9822, 2978, 7624, 7733,\n",
              "       7973, 3008, 5297, 5338, 9014, 8852, 8908, 50, 4538, 5367, 8953, 11,\n",
              "       13, 33, 34, 360, 2442, 2880, 3384, 4214, 4381, 4978, 5093, 5129,\n",
              "       5575, 6328, 6694, 7770, 7779, 8492, 8647, 8648, 8694, 8695, 9534,\n",
              "       2932, 8089, 4588, 295, 7788, 8732, 667, 870, 1618, 2915, 3462,\n",
              "       3463, 4271, 5096, 5413, 6419, 6420, 7911, 8087, 8698, 9943, 7613,\n",
              "       7968, 3974, 357, 830, 4031, 5038, 5159, 5452, 5454, 6310, 6819,\n",
              "       7081, 7670, 7672, 7784, 8650, 9998, 6159, 6678, 7780, 1934, 2493,\n",
              "       2657, 2743, 3590, 4005, 5472, 6440, 7190, 359, 1431, 3483, 5347,\n",
              "       5470, 6149, 7926, 8127, 2956, 7194, 865, 348, 1427, 2526, 4929,\n",
              "       5113, 5114, 5759, 6820, 7661, 7668, 7679, 9557, 9915, 93, 890,\n",
              "       2165, 2873, 3562, 4507, 5107, 5308, 5364, 6667, 7332, 7389, 7669,\n",
              "       7909, 9804, 105, 106, 112, 117, 2794, 4701, 4948, 4980, 4982, 4985,\n",
              "       6750, 9370, 9539, 9549, 9567, 9569, 9570, 9590, 9593, 9595, 9597,\n",
              "       662, 3476, 7184, 968, 976, 1295, 2623, 4395, 4671, 5043, 5064,\n",
              "       5148, 5180, 5246, 5517, 7445, 122, 6150, 7673, 7882, 8248, 8252,\n",
              "       8253, 8282, 8296, 8337, 119, 231, 1078, 1426, 2137, 3466, 3478,\n",
              "       5139, 5168, 5203, 5526, 7073, 7667, 8646, 9417, 9418, 9419, 9420,\n",
              "       9589, 9601, 9844, 9957, 960, 1103, 1845, 1885, 2865, 3273, 4373,\n",
              "       4599, 4965, 6900, 7763, 350, 1307, 1617, 3431, 3977, 4325, 5161,\n",
              "       5197, 5357, 5453, 6288, 6319, 6976, 7053, 7058, 7329, 7494, 7572,\n",
              "       7805, 8680, 9416, 9522, 9566, 9914, 343, 1232, 3465, 5166, 7126,\n",
              "       8172, 8964, 2255, 3109, 3291, 3381, 4981, 4986, 5191, 5198, 5479,\n",
              "       5805, 5826, 7062, 7082, 8682, 9503, 9594, 9799, 9865, 9912, 9516,\n",
              "       9517, 703, 1305, 1953, 36, 816, 1625, 1824, 3581, 3832, 3867, 3973,\n",
              "       3985, 4662, 4692, 5942, 6867, 7199, 7432, 7433, 9375, 9592, 9827,\n",
              "       3446, 5360, 9530, 825, 952, 1110, 1849, 2049, 2050, 2054, 2373,\n",
              "       3757, 3758, 3759, 3760, 3763, 3764, 4009, 4530, 5176, 5346, 5349,\n",
              "       5350, 5351, 5352, 5354, 5355, 5356, 5358, 5359, 6426, 6526, 6528,\n",
              "       6530, 6531, 6534, 6537, 6539, 6541, 6588, 7035, 7036, 7039, 7061,\n",
              "       7520, 7723, 7769, 7785, 7869, 9282, 9555, 9833, 9913, 880, 5509,\n",
              "       7682, 1554, 3586, 3836, 5157, 5171, 5289, 5369, 5946, 6952, 7144,\n",
              "       7663, 7728, 8921, 9328, 9712, 1715, 6538, 6882, 1420, 1519, 3447,\n",
              "       3656, 3679, 3698, 3710, 3805, 4004, 4006, 4660, 4954, 5052, 5053,\n",
              "       5130, 5345, 5439, 6656, 7069, 9355, 1371, 1375, 1540, 431, 432,\n",
              "       698, 1428, 1846, 2748, 3378, 3507, 3648, 3711, 4008, 4473, 4625,\n",
              "       4955, 5179, 5181, 5182, 5187, 5204, 5348, 6422, 6423, 6424, 6427,\n",
              "       6596, 6753, 6759, 6853, 6854, 6858, 6872, 7675, 8909, 9820, 1381,\n",
              "       4934, 5186, 6138, 6514, 9648, 428, 1622, 3049, 4631, 4813, 5527,\n",
              "       21, 415, 676, 822, 1097, 1191, 1241, 1274, 1627, 2187, 2547, 2612,\n",
              "       2696, 3087, 3103, 3388, 3473, 3686, 3717, 4135, 4136, 4137, 4138,\n",
              "       4143, 4261, 4406, 4630, 4633, 4652, 4687, 4708, 4796, 4799, 4900,\n",
              "       4953, 4989, 5158, 5196, 5211, 5296, 5344, 5809, 6192, 6194, 6425,\n",
              "       6697, 6751, 6862, 7214, 7244, 7354, 7455, 7510, 7531, 7714, 7815,\n",
              "       8600, 8725, 8765, 9010, 9777, 9784, 1067, 1524, 1624, 1848, 2122,\n",
              "       2677, 4820, 4912, 4921, 5167, 5872, 7588, 7603, 9013, 9650, 24, 25,\n",
              "       26, 27, 28, 67, 250, 264, 304, 386, 424, 446, 597, 599, 629, 668,\n",
              "       760, 823, 900, 930, 1301, 1633, 2052, 2094, 2152, 2265, 2371, 2666,\n",
              "       2872, 3102, 3379, 3412, 3690, 3876, 3972, 4268, 4600, 4656, 4659,\n",
              "       4806, 4830, 4894, 4909, 4979, 4984, 5015, 5174, 5175, 5190, 5306,\n",
              "       5368, 5481, 5548, 5787, 5890, 6259, 6295, 6520, 6613, 6614, 6708,\n",
              "       6709, 7707, 7742, 8155, 9298, 9300, 9301, 9302, 9303, 9598, 9654,\n",
              "       9791, 9809, 9838, 9864, 275, 1362, 3300, 1591, 1823, 2156, 2203,\n",
              "       2530, 3110, 4069, 4264, 4477, 5062, 5205, 5797, 5936, 6185, 6969,\n",
              "       7186, 7201, 7252, 8696, 8745, 9717, 1202, 2175, 2199, 5055, 5084,\n",
              "       5932, 7493, 7745, 29, 320, 353, 355, 1430, 1842, 2430, 2528, 2715,\n",
              "       2767, 3750, 3762, 3872, 4035, 4887, 5720, 5755, 6748, 7797, 9762,\n",
              "       656, 2517, 5508, 9526, 98, 4952, 6174, 456, 1869, 1897, 1911, 2368,\n",
              "       4645, 5068, 5845, 6193, 6870, 9742, 1052, 2372, 4339, 7442, 9646,\n",
              "       249, 647, 1319, 1898, 3692, 3858, 3873, 5128, 5849, 5954, 6462,\n",
              "       400, 291, 449, 665, 1171, 4657, 4950, 4987, 5544, 5693, 6749, 7604,\n",
              "       706, 2159, 2183, 3559, 3869, 4364, 5160, 5695, 7437, 7748, 8515,\n",
              "       8914, 1990, 7628, 447, 621, 1005, 1192, 3368, 3882, 4865, 4866,\n",
              "       6551, 7579, 4983, 475, 771, 2095, 2615, 2784, 3028, 3579, 3885,\n",
              "       3895, 4099, 4591, 4898, 5552, 5553, 5697, 5752, 840, 1635, 1875,\n",
              "       2067, 2068, 2279, 3061, 5571, 998, 1303, 4076, 4122, 8676, 9454,\n",
              "       9854, 1032, 3888, 5559], dtype=object)"
            ]
          },
          "metadata": {},
          "execution_count": 85
        }
      ]
    },
    {
      "cell_type": "code",
      "metadata": {
        "colab": {
          "base_uri": "https://localhost:8080/"
        },
        "id": "fKBf3_FTkBlz",
        "outputId": "be61560b-1e89-4eb1-fc68-e341e8ddabaa"
      },
      "source": [
        "len(countVec_predicted_booksID)"
      ],
      "execution_count": null,
      "outputs": [
        {
          "output_type": "execute_result",
          "data": {
            "text/plain": [
              "812"
            ]
          },
          "metadata": {},
          "execution_count": 86
        }
      ]
    },
    {
      "cell_type": "code",
      "metadata": {
        "colab": {
          "base_uri": "https://localhost:8080/"
        },
        "id": "3pOzLZMHkmbm",
        "outputId": "3247d4f8-9917-4fc0-b802-a1d631aac8b5"
      },
      "source": [
        "g"
      ],
      "execution_count": null,
      "outputs": [
        {
          "output_type": "execute_result",
          "data": {
            "text/plain": [
              "5"
            ]
          },
          "metadata": {},
          "execution_count": 87
        }
      ]
    },
    {
      "cell_type": "code",
      "metadata": {
        "id": "2jnFob-LkGfZ"
      },
      "source": [
        "all_users = getAllUsers(g)\n",
        "\n",
        "countVec_acc = allUsers_accuracy(all_users,countVec_predicted_booksID)"
      ],
      "execution_count": null,
      "outputs": []
    },
    {
      "cell_type": "markdown",
      "metadata": {
        "id": "VVxO8tWlJwQz"
      },
      "source": [
        "# Accuracy"
      ]
    },
    {
      "cell_type": "code",
      "metadata": {
        "colab": {
          "base_uri": "https://localhost:8080/"
        },
        "id": "K8hNR1xkJymT",
        "outputId": "7f35ad7e-18f1-4363-879f-18787dfe0697"
      },
      "source": [
        "tfidf_acc"
      ],
      "execution_count": null,
      "outputs": [
        {
          "output_type": "execute_result",
          "data": {
            "text/plain": [
              "23.6471"
            ]
          },
          "metadata": {},
          "execution_count": 89
        }
      ]
    },
    {
      "cell_type": "code",
      "metadata": {
        "colab": {
          "base_uri": "https://localhost:8080/"
        },
        "id": "MRbbJdtxJ1Lu",
        "outputId": "9286c862-9db1-4242-feb6-15823d0f63a2"
      },
      "source": [
        "countVec_acc"
      ],
      "execution_count": null,
      "outputs": [
        {
          "output_type": "execute_result",
          "data": {
            "text/plain": [
              "2.7204"
            ]
          },
          "metadata": {},
          "execution_count": 90
        }
      ]
    },
    {
      "cell_type": "markdown",
      "metadata": {
        "id": "-8PBYG9qKhbf"
      },
      "source": [
        "| G   |      tfidf      |  count vec |\n",
        "|----------|:-------------:|------:|\n",
        "| 3 |  22.7059 | 2.6342 |\n",
        "| 5 |  23.6471 | 2.7204 |\n",
        "| 8 |  23.0588 | 2.6441 |\n",
        "\n"
      ]
    },
    {
      "cell_type": "markdown",
      "metadata": {
        "id": "CAofN34rZeo3"
      },
      "source": [
        "## graph"
      ]
    },
    {
      "cell_type": "code",
      "metadata": {
        "colab": {
          "base_uri": "https://localhost:8080/"
        },
        "id": "b1Y6ukafWdrR",
        "outputId": "0c2f58ad-ed8c-4785-fbb7-d1043d45965c"
      },
      "source": [
        "comparison.score[1:11]"
      ],
      "execution_count": null,
      "outputs": [
        {
          "output_type": "execute_result",
          "data": {
            "text/plain": [
              "1            1\n",
              "2            1\n",
              "3     0.987886\n",
              "4     0.987886\n",
              "5     0.987886\n",
              "6     0.985589\n",
              "7     0.980338\n",
              "8     0.778616\n",
              "9     0.742696\n",
              "10    0.742696\n",
              "Name: score, dtype: object"
            ]
          },
          "metadata": {},
          "execution_count": 134
        }
      ]
    },
    {
      "cell_type": "code",
      "metadata": {
        "colab": {
          "base_uri": "https://localhost:8080/"
        },
        "id": "t2JUa9YZWneq",
        "outputId": "9f7adf71-9095-4cfd-e5f3-dcedd7484fd1"
      },
      "source": [
        "comparison_countVec.score[1:11]"
      ],
      "execution_count": null,
      "outputs": [
        {
          "output_type": "execute_result",
          "data": {
            "text/plain": [
              "1            1\n",
              "2            1\n",
              "3     0.948683\n",
              "4     0.948683\n",
              "5     0.948683\n",
              "6     0.948683\n",
              "7     0.948683\n",
              "8     0.942809\n",
              "9     0.942809\n",
              "10    0.942809\n",
              "Name: score, dtype: object"
            ]
          },
          "metadata": {},
          "execution_count": 141
        }
      ]
    },
    {
      "cell_type": "code",
      "metadata": {
        "colab": {
          "base_uri": "https://localhost:8080/",
          "height": 282
        },
        "id": "tc8y-RtTXvnc",
        "outputId": "d8b48ab7-615f-4987-e009-1c9a8c914323"
      },
      "source": [
        "comparison.score[1:11].plot.line()"
      ],
      "execution_count": null,
      "outputs": [
        {
          "output_type": "execute_result",
          "data": {
            "text/plain": [
              "<matplotlib.axes._subplots.AxesSubplot at 0x7f1570dca150>"
            ]
          },
          "metadata": {},
          "execution_count": 140
        },
        {
          "output_type": "display_data",
          "data": {
            "image/png": "[encoded data removed]",
            "text/plain": [
              "<Figure size 432x288 with 1 Axes>"
            ]
          },
          "metadata": {
            "needs_background": "light"
          }
        }
      ]
    },
    {
      "cell_type": "code",
      "metadata": {
        "colab": {
          "base_uri": "https://localhost:8080/",
          "height": 282
        },
        "id": "Ie8lY3nTYzOz",
        "outputId": "e5777d2f-c3ac-4ea3-8c45-f7cc3672272b"
      },
      "source": [
        "comparison_countVec.score[1:11].plot.line()"
      ],
      "execution_count": null,
      "outputs": [
        {
          "output_type": "execute_result",
          "data": {
            "text/plain": [
              "<matplotlib.axes._subplots.AxesSubplot at 0x7f1570db7710>"
            ]
          },
          "metadata": {},
          "execution_count": 142
        },
        {
          "output_type": "display_data",
          "data": {
            "image/png": "[encoded data removed]",
            "text/plain": [
              "<Figure size 432x288 with 1 Axes>"
            ]
          },
          "metadata": {
            "needs_background": "light"
          }
        }
      ]
    },
    {
      "cell_type": "code",
      "metadata": {
        "id": "glEYUi32ZL-n"
      },
      "source": [
        "df_plot = pd.DataFrame({'TF-IDF':comparison.score[1:11], 'Count Vec': comparison_countVec.score[1:11]})"
      ],
      "execution_count": null,
      "outputs": []
    },
    {
      "cell_type": "code",
      "metadata": {
        "colab": {
          "base_uri": "https://localhost:8080/",
          "height": 282
        },
        "id": "y-PC3blUZXZm",
        "outputId": "24ee8b35-2d6e-4662-865c-1a02901dc208"
      },
      "source": [
        "df_plot.plot.line()"
      ],
      "execution_count": null,
      "outputs": [
        {
          "output_type": "execute_result",
          "data": {
            "text/plain": [
              "<matplotlib.axes._subplots.AxesSubplot at 0x7f1570d37a10>"
            ]
          },
          "metadata": {},
          "execution_count": 144
        },
        {
          "output_type": "display_data",
          "data": {
            "image/png": "[encoded data removed]",
            "text/plain": [
              "<Figure size 432x288 with 1 Axes>"
            ]
          },
          "metadata": {
            "needs_background": "light"
          }
        }
      ]
    },
    {
      "cell_type": "markdown",
      "metadata": {
        "id": "6RZvzEnJWY6B"
      },
      "source": [
        "## Table"
      ]
    },
    {
      "cell_type": "code",
      "metadata": {
        "id": "JYwBmkkyUDV_"
      },
      "source": [
        "comparison"
      ],
      "execution_count": null,
      "outputs": []
    },
    {
      "cell_type": "code",
      "metadata": {
        "id": "GPKDJGrVUear"
      },
      "source": [
        "comparison.loc[comparison['title'] != read_book['title'].to_numpy()[0]]"
      ],
      "execution_count": null,
      "outputs": []
    },
    {
      "cell_type": "code",
      "metadata": {
        "id": "Vfm5gT1CS-Jf"
      },
      "source": [
        "tfidf_titles =  comparison.loc[comparison['title'] != read_book['title'].to_numpy()[0]].title[:10]\n",
        "tfidf_titles"
      ],
      "execution_count": null,
      "outputs": []
    },
    {
      "cell_type": "code",
      "metadata": {
        "id": "3-GwJX-LUtlv"
      },
      "source": [
        "countVec_titles = comparison_countVec.loc[comparison_countVec['title'] != read_book['title'].to_numpy()[0]].title[:10]\n",
        "countVec_titles"
      ],
      "execution_count": null,
      "outputs": []
    },
    {
      "cell_type": "code",
      "metadata": {
        "id": "mStw0Pv-TFtK"
      },
      "source": [
        "df_recommandation = pd.DataFrame({'TF-IDF': tfidf_titles, 'Count Vec': countVec_titles})"
      ],
      "execution_count": null,
      "outputs": []
    },
    {
      "cell_type": "code",
      "metadata": {
        "colab": {
          "base_uri": "https://localhost:8080/",
          "height": 357
        },
        "id": "vG5nAA7GVA-5",
        "outputId": "63828c70-6238-48de-d740-5b87a9455948"
      },
      "source": [
        "df_recommandation"
      ],
      "execution_count": null,
      "outputs": [
        {
          "output_type": "execute_result",
          "data": {
            "text/html": [
              "<div>\n",
              "<style scoped>\n",
              "    .dataframe tbody tr th:only-of-type {\n",
              "        vertical-align: middle;\n",
              "    }\n",
              "\n",
              "    .dataframe tbody tr th {\n",
              "        vertical-align: top;\n",
              "    }\n",
              "\n",
              "    .dataframe thead th {\n",
              "        text-align: right;\n",
              "    }\n",
              "</style>\n",
              "<table border=\"1\" class=\"dataframe\">\n",
              "  <thead>\n",
              "    <tr style=\"text-align: right;\">\n",
              "      <th></th>\n",
              "      <th>TF-IDF</th>\n",
              "      <th>Count Vec</th>\n",
              "    </tr>\n",
              "  </thead>\n",
              "  <tbody>\n",
              "    <tr>\n",
              "      <th>1</th>\n",
              "      <td>Harry Potter and the Goblet of Fire (Harry Pot...</td>\n",
              "      <td>Harry Potter and the Goblet of Fire (Harry Pot...</td>\n",
              "    </tr>\n",
              "    <tr>\n",
              "      <th>2</th>\n",
              "      <td>Harry Potter and the Half-Blood Prince (Harry ...</td>\n",
              "      <td>Harry Potter and the Half-Blood Prince (Harry ...</td>\n",
              "    </tr>\n",
              "    <tr>\n",
              "      <th>3</th>\n",
              "      <td>Harry Potter and the Order of the Phoenix (Har...</td>\n",
              "      <td>Harry Potter and the Order of the Phoenix (Har...</td>\n",
              "    </tr>\n",
              "    <tr>\n",
              "      <th>4</th>\n",
              "      <td>Harry Potter Boxed Set, Books 1-5 (Harry Potte...</td>\n",
              "      <td>Harry Potter and the Prisoner of Azkaban (Harr...</td>\n",
              "    </tr>\n",
              "    <tr>\n",
              "      <th>5</th>\n",
              "      <td>Harry Potter and the Prisoner of Azkaban (Harr...</td>\n",
              "      <td>Harry Potter Boxed Set, Books 1-5 (Harry Potte...</td>\n",
              "    </tr>\n",
              "    <tr>\n",
              "      <th>6</th>\n",
              "      <td>Harry Potter Collection (Harry Potter, #1-6)</td>\n",
              "      <td>Harry Potter Collection (Harry Potter, #1-6)</td>\n",
              "    </tr>\n",
              "    <tr>\n",
              "      <th>7</th>\n",
              "      <td>Harry Potter Schoolbooks Box Set: Two Classic ...</td>\n",
              "      <td>Harry Potter Schoolbooks Box Set: Two Classic ...</td>\n",
              "    </tr>\n",
              "    <tr>\n",
              "      <th>8</th>\n",
              "      <td>Midnight for Charlie Bone (The Children of the...</td>\n",
              "      <td>Midnight for Charlie Bone (The Children of the...</td>\n",
              "    </tr>\n",
              "    <tr>\n",
              "      <th>9</th>\n",
              "      <td>Sons of Destiny (Cirque Du Freak, #12)</td>\n",
              "      <td>Howl's Moving Castle (Howl's Moving Castle, #1)</td>\n",
              "    </tr>\n",
              "    <tr>\n",
              "      <th>10</th>\n",
              "      <td>Lord of the Shadows (Cirque Du Freak, #11)</td>\n",
              "      <td>Sons of Destiny (Cirque Du Freak, #12)</td>\n",
              "    </tr>\n",
              "  </tbody>\n",
              "</table>\n",
              "</div>"
            ],
            "text/plain": [
              "                                               TF-IDF                                          Count Vec\n",
              "1   Harry Potter and the Goblet of Fire (Harry Pot...  Harry Potter and the Goblet of Fire (Harry Pot...\n",
              "2   Harry Potter and the Half-Blood Prince (Harry ...  Harry Potter and the Half-Blood Prince (Harry ...\n",
              "3   Harry Potter and the Order of the Phoenix (Har...  Harry Potter and the Order of the Phoenix (Har...\n",
              "4   Harry Potter Boxed Set, Books 1-5 (Harry Potte...  Harry Potter and the Prisoner of Azkaban (Harr...\n",
              "5   Harry Potter and the Prisoner of Azkaban (Harr...  Harry Potter Boxed Set, Books 1-5 (Harry Potte...\n",
              "6        Harry Potter Collection (Harry Potter, #1-6)       Harry Potter Collection (Harry Potter, #1-6)\n",
              "7   Harry Potter Schoolbooks Box Set: Two Classic ...  Harry Potter Schoolbooks Box Set: Two Classic ...\n",
              "8   Midnight for Charlie Bone (The Children of the...  Midnight for Charlie Bone (The Children of the...\n",
              "9              Sons of Destiny (Cirque Du Freak, #12)    Howl's Moving Castle (Howl's Moving Castle, #1)\n",
              "10         Lord of the Shadows (Cirque Du Freak, #11)             Sons of Destiny (Cirque Du Freak, #12)"
            ]
          },
          "metadata": {},
          "execution_count": 127
        }
      ]
    }
  ]
}